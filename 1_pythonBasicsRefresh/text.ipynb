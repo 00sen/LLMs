{
 "cells": [
  {
   "cell_type": "code",
   "execution_count": 6,
   "metadata": {},
   "outputs": [
    {
     "name": "stdout",
     "output_type": "stream",
     "text": [
      "['APPLE', 'BANANA', 'CHERRY']\n"
     ]
    }
   ],
   "source": [
    "words=['apple','banana','cherry']\n",
    "upper_word=list(map(str.upper,words))\n",
    "print(upper_word)"
   ]
  },
  {
   "cell_type": "code",
   "execution_count": 7,
   "metadata": {},
   "outputs": [],
   "source": [
    "def even(num):\n",
    "    if num%2==0:\n",
    "        return True"
   ]
  },
  {
   "cell_type": "code",
   "execution_count": 9,
   "metadata": {},
   "outputs": [],
   "source": [
    "numbers = [1, 4, 6, 2, 23, 34, 24, 36]"
   ]
  },
  {
   "cell_type": "code",
   "execution_count": 11,
   "metadata": {},
   "outputs": [
    {
     "name": "stdout",
     "output_type": "stream",
     "text": [
      "[None, True, True, True, None, True, True, True]\n"
     ]
    }
   ],
   "source": [
    "booleans = list(map(even,numbers))\n",
    "print(booleans)"
   ]
  },
  {
   "cell_type": "code",
   "execution_count": 13,
   "metadata": {},
   "outputs": [
    {
     "name": "stdout",
     "output_type": "stream",
     "text": [
      "[4, 6, 2, 34, 24, 36]\n"
     ]
    }
   ],
   "source": [
    "filtered = list(filter(even,numbers))\n",
    "print(filtered)"
   ]
  },
  {
   "cell_type": "code",
   "execution_count": 14,
   "metadata": {},
   "outputs": [
    {
     "name": "stdout",
     "output_type": "stream",
     "text": [
      "[6, 7, 8]\n"
     ]
    }
   ],
   "source": [
    "numbers2 = [1, 2, 3, 4, 5, 6, 7, 8]\n",
    "greaterThanFive=list(filter(lambda x:x>5, numbers2))\n",
    "print(greaterThanFive)"
   ]
  },
  {
   "cell_type": "code",
   "execution_count": 17,
   "metadata": {},
   "outputs": [
    {
     "name": "stdout",
     "output_type": "stream",
     "text": [
      "[6, 8]\n"
     ]
    }
   ],
   "source": [
    "greaterThanFiveAndEven=list(filter(lambda x:x>5 and x%2==0, numbers2))\n",
    "print(greaterThanFiveAndEven)"
   ]
  },
  {
   "cell_type": "code",
   "execution_count": 19,
   "metadata": {},
   "outputs": [
    {
     "name": "stdout",
     "output_type": "stream",
     "text": [
      "[{'name': 'Jack', 'age': 500}, {'name': 'Leslie', 'age': 53}]\n"
     ]
    }
   ],
   "source": [
    "## Check and filter in dictionaries\n",
    "dictionaryExample = [\n",
    "    {'name':'Krish', 'age':32},\n",
    "    {'name':'Jack', 'age':500},\n",
    "    {'name':'Leslie', 'age':53},\n",
    "]\n",
    "\n",
    "def age_greaterThan_50(person):\n",
    "    return person['age']>50\n",
    "\n",
    "people = list(filter(age_greaterThan_50, dictionaryExample))\n",
    "print(people)"
   ]
  }
 ],
 "metadata": {
  "kernelspec": {
   "display_name": ".venv",
   "language": "python",
   "name": "python3"
  },
  "language_info": {
   "codemirror_mode": {
    "name": "ipython",
    "version": 3
   },
   "file_extension": ".py",
   "mimetype": "text/x-python",
   "name": "python",
   "nbconvert_exporter": "python",
   "pygments_lexer": "ipython3",
   "version": "3.10.12"
  }
 },
 "nbformat": 4,
 "nbformat_minor": 2
}
